{
 "cells": [
  {
   "cell_type": "code",
   "execution_count": null,
   "id": "b36ef344-7320-4949-91d4-f123eb6afad4",
   "metadata": {},
   "outputs": [],
   "source": [
    "import pickle\n",
    "\n",
    "import datacube\n",
    "import geopandas as gpd\n",
    "import matplotlib.pyplot as plt\n",
    "import numpy as np\n",
    "import pandas as pd\n",
    "import rioxarray\n",
    "import xarray as xr\n",
    "import os\n",
    "import glob\n",
    "from joblib import dump\n",
    "from datacube.utils import geometry\n",
    "from deafrica_tools.bandindices import calculate_indices\n",
    "from deafrica_tools.classification import predict_xr, sklearn_flatten, sklearn_unflatten\n",
    "from deafrica_tools.dask import create_local_dask_cluster\n",
    "from deafrica_tools.datahandling import load_ard\n",
    "from deafrica_tools.plotting import rgb\n",
    "from deafrica_tools.spatial import xr_rasterize\n",
    "from deafrica_tools.temporal import temporal_statistics, xr_phenology\n",
    "from sklearn.cluster import DBSCAN, KMeans\n",
    "from sklearn.decomposition import PCA\n",
    "from sklearn.ensemble import RandomForestClassifier\n",
    "from sklearn.preprocessing import StandardScaler"
   ]
  },
  {
   "cell_type": "code",
   "execution_count": null,
   "id": "6c0e0e74-937f-410a-b58a-f7ed431c7da0",
   "metadata": {},
   "outputs": [],
   "source": [
    "create_local_dask_cluster()"
   ]
  },
  {
   "cell_type": "code",
   "execution_count": null,
   "id": "27b1be00-6e6e-442a-958a-f6bcebe0a38e",
   "metadata": {},
   "outputs": [],
   "source": [
    "# Fix random seed to ensure reproducibility while developing\n",
    "rng = np.random.default_rng(17)\n",
    "\n",
    "# Read in the district files:\n",
    "input_prefix = \"data/2021_features_cropmasked\"\n",
    "\n",
    "\n",
    "files = glob.glob(\"{input_prefix}_*.pickle\")\n",
    "\n",
    "data_arrays = []\n",
    "\n",
    "for i, file in enumerate(files):\n",
    "    with open(file, \"rb\") as f: \n",
    "        labels, data = pickle.load(f)\n",
    "        \n",
    "        # Subsample data\n",
    "        nrows_to_save = 10000\n",
    "        random_rows = rng.choice(data.shape[0], size=nrows_to_save, replace=False)\n",
    "        data = data[random_rows, :]\n",
    "        \n",
    "        #data_arrays.append(data_subset)\n",
    "        data_arrays.append(data.squeeze())\n",
    "        \n",
    "# Concatenate to get all data for k-means\n",
    "all_data = np.concatenate(data_arrays, axis=0)"
   ]
  },
  {
   "cell_type": "code",
   "execution_count": null,
   "id": "cf69e1b9-1344-4c1d-bfec-0475bb998fa0",
   "metadata": {},
   "outputs": [],
   "source": [
    "all_data.shape"
   ]
  },
  {
   "cell_type": "markdown",
   "id": "2c7ca530-d26e-4d90-9c36-e44a73f39d66",
   "metadata": {},
   "source": [
    "## Fit k-means"
   ]
  },
  {
   "cell_type": "code",
   "execution_count": null,
   "id": "4aae6fe0-4a89-4f99-be5d-491cea92aaad",
   "metadata": {},
   "outputs": [],
   "source": [
    "k = 15\n",
    "kmeans = KMeans(n_clusters=k, random_state=42)\n",
    "\n",
    "kmeans.fit(all_data)"
   ]
  },
  {
   "cell_type": "markdown",
   "id": "ff42126d-5af2-4baa-ba8d-5341c0bffe8c",
   "metadata": {},
   "source": [
    "## Save model and Scaler"
   ]
  },
  {
   "cell_type": "code",
   "execution_count": null,
   "id": "1bb0086c-a538-4439-8de4-16458a567e52",
   "metadata": {},
   "outputs": [],
   "source": [
    "output_model = \"results/ml_model.joblib\"\n",
    "\n",
    "dump(kmeans, output_model)"
   ]
  }
 ],
 "metadata": {
  "kernelspec": {
   "display_name": "Python 3 (ipykernel)",
   "language": "python",
   "name": "python3"
  },
  "language_info": {
   "codemirror_mode": {
    "name": "ipython",
    "version": 3
   },
   "file_extension": ".py",
   "mimetype": "text/x-python",
   "name": "python",
   "nbconvert_exporter": "python",
   "pygments_lexer": "ipython3",
   "version": "3.8.10"
  },
  "widgets": {
   "application/vnd.jupyter.widget-state+json": {
    "state": {},
    "version_major": 2,
    "version_minor": 0
   }
  }
 },
 "nbformat": 4,
 "nbformat_minor": 5
}
