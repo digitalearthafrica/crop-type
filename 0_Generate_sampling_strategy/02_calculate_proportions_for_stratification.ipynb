{
 "cells": [
  {
   "cell_type": "code",
   "execution_count": null,
   "id": "d3196328-eb80-404a-97db-b86ca485a760",
   "metadata": {},
   "outputs": [],
   "source": [
    "import os\n",
    "import pickle\n",
    "\n",
    "import datacube\n",
    "import geopandas as gpd\n",
    "import matplotlib.pyplot as plt\n",
    "import numpy as np\n",
    "import pandas as pd\n",
    "import rioxarray\n",
    "import xarray as xr\n",
    "from datacube.utils import geometry\n",
    "from deafrica_tools.spatial import xr_rasterize\n",
    "from joblib import dump"
   ]
  },
  {
   "cell_type": "code",
   "execution_count": null,
   "id": "5402f8e1-90bc-4445-b695-abe8f68c163c",
   "metadata": {},
   "outputs": [],
   "source": [
    "admin_boundaries_file = (\n",
    "    \"data/admin-boundaries/GRID3_Zambia_Administrative_Boundaries_Districts_2020.shp\"\n",
    ")"
   ]
  },
  {
   "cell_type": "code",
   "execution_count": null,
   "id": "76963d1e-1af1-431d-90e4-ad0548039b51",
   "metadata": {},
   "outputs": [],
   "source": [
    "admin_boundaries_gdf = gpd.read_file(admin_boundaries_file).to_crs(\"EPSG:6933\")"
   ]
  },
  {
   "cell_type": "code",
   "execution_count": null,
   "id": "1d3e39d5-a550-46fb-b927-57272b93ea3c",
   "metadata": {},
   "outputs": [],
   "source": [
    "province = \"Central\"\n",
    "province_boundaries_gdf = admin_boundaries_gdf.loc[\n",
    "    admin_boundaries_gdf[\"PROVINCE\"] == province\n",
    "]"
   ]
  },
  {
   "cell_type": "code",
   "execution_count": null,
   "id": "136db9e5-1db7-4541-9fac-aaef2aa55980",
   "metadata": {},
   "outputs": [],
   "source": [
    "# Crop mask query\n",
    "\n",
    "dc = datacube.Datacube(app=\"crop_type_ml\")\n",
    "\n",
    "# Write a general query\n",
    "time = \"2019\"\n",
    "resolution = (-20, 20)\n",
    "output_crs = \"EPSG:6933\"\n",
    "\n",
    "query = {\n",
    "    \"time\": time,\n",
    "    \"resolution\": resolution,\n",
    "    \"output_crs\": output_crs,\n",
    "    \"dask_chunks\": {\"time\": 1, \"x\": 2000, \"y\": 2000},\n",
    "}"
   ]
  },
  {
   "cell_type": "code",
   "execution_count": null,
   "id": "945c41d2-f6ea-4cc3-8d9f-3ef866a44f9f",
   "metadata": {},
   "outputs": [],
   "source": [
    "# For each district, calculate the number of pixels at 20m resolution, and the proportional coverage of crop mask at 20m resolution\n",
    "area_of_interest_gdf = province_boundaries_gdf.reset_index(drop=True)\n",
    "district_column = \"DISTRICT\"\n",
    "\n",
    "for index, district in area_of_interest_gdf.iterrows():\n",
    "\n",
    "    # Set up geometry\n",
    "    district_name = district[district_column]\n",
    "    print(f\"Processing {district_name}\")\n",
    "\n",
    "    # set up query based on polygon\n",
    "    geom = geometry.Geometry(geom=district.geometry, crs=area_of_interest_gdf.crs)\n",
    "    q = {\"geopolygon\": geom}\n",
    "\n",
    "    # merge polygon query with user supplied query params\n",
    "    query.update(q)\n",
    "\n",
    "    # Load crop mask\n",
    "    crop_mask = dc.load(product=\"crop_mask_southeast\", **query).load()\n",
    "\n",
    "    # Rasterize polygon based on crop mask\n",
    "    district_mask = xr_rasterize(\n",
    "        gdf=area_of_interest_gdf.iloc[[index]],\n",
    "        da=crop_mask,\n",
    "        transform=crop_mask.geobox.transform,\n",
    "        crs=\"EPSG:6933\",\n",
    "    )\n",
    "\n",
    "    # Work out number of pixels and area\n",
    "    m2_per_km2 = 1000000\n",
    "\n",
    "    cropping_pixels = crop_mask.filtered.where(district_mask==1).sum().item()\n",
    "    cropping_area_m2 = cropping_pixels * abs(\n",
    "        query[\"resolution\"][0] * query[\"resolution\"][1]\n",
    "    )\n",
    "    cropping_area_km2 = cropping_area_m2 / m2_per_km2\n",
    "\n",
    "    district_pixels = district_mask.sum().item()\n",
    "    district_area_m2 = district_pixels * abs(\n",
    "        query[\"resolution\"][0] * query[\"resolution\"][1]\n",
    "    )\n",
    "    district_area_km2 = district_area_m2 / m2_per_km2\n",
    "\n",
    "    crop_proportion = cropping_pixels / district_pixels\n",
    "    area_of_interest_gdf.loc[index, \"crop_area_km2\"] = cropping_area_km2\n",
    "    area_of_interest_gdf.loc[index, \"district_area_km2\"] = district_area_km2\n",
    "    area_of_interest_gdf.loc[index, \"crop_proportion\"] = crop_proportion\n",
    "    \n",
    "    print(f\"    Cropping proportion is {crop_proportion}\")"
   ]
  },
  {
   "cell_type": "code",
   "execution_count": null,
   "id": "8f5f0604-6f88-465e-98ad-2c3737b0a7d4",
   "metadata": {},
   "outputs": [],
   "source": [
    "cropping_by_district = (\n",
    "    area_of_interest_gdf[\n",
    "        [\n",
    "            \"FID\",\n",
    "            district_column,\n",
    "            \"crop_area_km2\",\n",
    "            \"district_area_km2\",\n",
    "            \"crop_proportion\",\n",
    "            \"geometry\",\n",
    "        ]\n",
    "    ]\n",
    "    .sort_values(\"crop_proportion\", ascending=False)\n",
    "    .reset_index(drop=True)\n",
    ")"
   ]
  },
  {
   "cell_type": "code",
   "execution_count": null,
   "id": "703efd58-5a61-468e-9e46-198d6fd2ce43",
   "metadata": {},
   "outputs": [],
   "source": [
    "cropping_by_district.to_file(\"data/cropping_propotion_by_district.geojson\")"
   ]
  },
  {
   "cell_type": "code",
   "execution_count": null,
   "id": "df0e0a37-ecfd-4f3d-ab42-9ef516f232d8",
   "metadata": {},
   "outputs": [],
   "source": [
    "# convert to CSV by dropping geometry\n",
    "\n",
    "# Convert to pandas and then pivot to get columns per draw\n",
    "df = pd.DataFrame(cropping_by_district.drop(columns='geometry'))\n",
    "\n",
    "df.to_csv(\"data/cropping_propotion_by_district.csv\")"
   ]
  }
 ],
 "metadata": {
  "kernelspec": {
   "display_name": "Python 3 (ipykernel)",
   "language": "python",
   "name": "python3"
  },
  "language_info": {
   "codemirror_mode": {
    "name": "ipython",
    "version": 3
   },
   "file_extension": ".py",
   "mimetype": "text/x-python",
   "name": "python",
   "nbconvert_exporter": "python",
   "pygments_lexer": "ipython3",
   "version": "3.8.10"
  },
  "widgets": {
   "application/vnd.jupyter.widget-state+json": {
    "state": {},
    "version_major": 2,
    "version_minor": 0
   }
  }
 },
 "nbformat": 4,
 "nbformat_minor": 5
}
