{
 "cells": [
  {
   "cell_type": "markdown",
   "id": "11216592-3454-4862-9c5e-c56187a1196f",
   "metadata": {},
   "source": [
    "## Combine all predictions into a single file"
   ]
  },
  {
   "cell_type": "code",
   "execution_count": null,
   "id": "ac6a4dc9-0ef2-47ef-9518-973174f1f528",
   "metadata": {},
   "outputs": [],
   "source": [
    "! gdal_merge.py -o results/combinedpredictions.tif -co COMPRESS=Deflate -ot UInt16 -n 255 -a_nodata 255 data/district_*_croptype_prediction.tif"
   ]
  },
  {
   "cell_type": "markdown",
   "id": "53b417c9-d0f9-492b-aedb-417ebdb5cb20",
   "metadata": {},
   "source": [
    "## Combine all probabilities into a single file"
   ]
  },
  {
   "cell_type": "code",
   "execution_count": null,
   "id": "3e8e44b3-12f7-4c41-a857-015e4f7dcc55",
   "metadata": {},
   "outputs": [],
   "source": [
    "! gdal_merge.py -o results/combinedprobabilities.tif -co COMPRESS=Deflate -ot UInt16 -n 255 -a_nodata 255 data/district_*_croptype_probabilities.tif"
   ]
  }
 ],
 "metadata": {
  "kernelspec": {
   "display_name": "Python 3 (ipykernel)",
   "language": "python",
   "name": "python3"
  },
  "language_info": {
   "codemirror_mode": {
    "name": "ipython",
    "version": 3
   },
   "file_extension": ".py",
   "mimetype": "text/x-python",
   "name": "python",
   "nbconvert_exporter": "python",
   "pygments_lexer": "ipython3",
   "version": "3.8.10"
  },
  "widgets": {
   "application/vnd.jupyter.widget-state+json": {
    "state": {},
    "version_major": 2,
    "version_minor": 0
   }
  }
 },
 "nbformat": 4,
 "nbformat_minor": 5
}
