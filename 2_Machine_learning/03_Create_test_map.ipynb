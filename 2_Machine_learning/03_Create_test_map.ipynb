{
 "cells": [
  {
   "cell_type": "code",
   "execution_count": null,
   "id": "38a62af3-b442-4acc-af8a-c97235e509db",
   "metadata": {},
   "outputs": [],
   "source": [
    "import json\n",
    "import pickle\n",
    "\n",
    "import datacube\n",
    "import geopandas as gpd\n",
    "import matplotlib.pyplot as plt\n",
    "import numpy as np\n",
    "import pandas as pd\n",
    "import xarray as xr\n",
    "from datacube.utils import geometry\n",
    "from datacube.utils.cog import write_cog\n",
    "from deafrica_tools.bandindices import calculate_indices\n",
    "from deafrica_tools.classification import predict_xr\n",
    "from deafrica_tools.dask import create_local_dask_cluster\n",
    "from deafrica_tools.datahandling import load_ard\n",
    "from deafrica_tools.plotting import display_map, rgb\n",
    "from deafrica_tools.spatial import xr_rasterize\n",
    "from feature_collection import feature_layers\n",
    "from joblib import load\n",
    "from odc.algo import geomedian_with_mads, xr_geomedian\n",
    "from odc.io.cgroups import get_cpu_quota"
   ]
  },
  {
   "cell_type": "markdown",
   "id": "67c5a5e7-1ea5-4c00-9f22-2b3ded13d7ce",
   "metadata": {},
   "source": [
    "## Create Dask cluster for running predictions"
   ]
  },
  {
   "cell_type": "code",
   "execution_count": null,
   "id": "352ee4aa-b19a-4a14-9a6c-6aabb27c92ed",
   "metadata": {},
   "outputs": [],
   "source": [
    "ncpus = round(get_cpu_quota())\n",
    "print(\"ncpus = \" + str(ncpus))\n",
    "\n",
    "client = create_local_dask_cluster(return_client=True, n_workers=1, threads_per_worker=ncpus)"
   ]
  },
  {
   "cell_type": "markdown",
   "id": "81f29b95-18b7-485c-8ac0-b51214d50461",
   "metadata": {},
   "source": [
    "## Read in training data feaure names and class labels"
   ]
  },
  {
   "cell_type": "code",
   "execution_count": null,
   "id": "9e9f6d9b-505e-459d-83aa-93b01d91057e",
   "metadata": {},
   "outputs": [],
   "source": [
    "experiment_name = \"exp_multipixel_allfeatures_removecorrfeaturesgt0p9_RandomForest\""
   ]
  },
  {
   "cell_type": "code",
   "execution_count": null,
   "id": "324a427e-cba3-4349-9573-80a2e82b5e22",
   "metadata": {},
   "outputs": [],
   "source": [
    "# Get label dictionary\n",
    "labels_path = \"results/class_labels.json\"\n",
    "with open(labels_path, \"r\") as json_file:\n",
    "    labels_dict = json.load(json_file)\n",
    "\n",
    "# Get model features\n",
    "feautres_path = f\"results/{experiment_name}_features.json\"\n",
    "with open(feautres_path, \"r\") as json_file:\n",
    "    features_dict = json.load(json_file)\n",
    "    \n",
    "features = features_dict[\"features\"]"
   ]
  },
  {
   "cell_type": "code",
   "execution_count": null,
   "id": "64cc583b-3645-4173-a885-24d518487d0b",
   "metadata": {},
   "outputs": [],
   "source": [
    "len(features)"
   ]
  },
  {
   "cell_type": "markdown",
   "id": "2c19a2b3-62e6-445f-b835-29e4860d98b1",
   "metadata": {
    "tags": []
   },
   "source": [
    "## Load trained ML model and areas to test"
   ]
  },
  {
   "cell_type": "code",
   "execution_count": null,
   "id": "6fbbb575-e50c-4535-b07c-0db4a70c25d1",
   "metadata": {},
   "outputs": [],
   "source": [
    "# Choose model and load\n",
    "model_path = f\"results/{experiment_name}.joblib\"  #\"results/randomforest_model.joblib\"\n",
    "model = load(model_path).set_params(n_jobs=1)\n",
    "\n",
    "# Choose file containing test areas and load\n",
    "test_areas_file = \"data/border_striping_testarea.gpkg\"\n",
    "test_areas_gdf = gpd.read_file(test_areas_file)"
   ]
  },
  {
   "cell_type": "code",
   "execution_count": null,
   "id": "58e3dc83-eec7-40b6-9c04-a9df1b0ac0f7",
   "metadata": {},
   "outputs": [],
   "source": [
    "model"
   ]
  },
  {
   "cell_type": "code",
   "execution_count": null,
   "id": "74f0bd11-1c6a-46fa-915e-618dc00346ad",
   "metadata": {},
   "outputs": [],
   "source": [
    "order = np.argsort(model.feature_importances_)[:]\n",
    "\n",
    "fig, ax = plt.subplots(figsize=(10, 8))\n",
    "ax.barh(range(len(np.array(features)[order])), model.feature_importances_[order])\n",
    "ax.set_xlabel(\"Importance\", fontsize=14)\n",
    "ax.set_ylabel(\"Feature\", fontsize=14)\n",
    "ax.set_yticks(np.arange(len(order)))\n",
    "ax.set_yticklabels(np.array(features)[order], rotation=0, fontsize=8)\n",
    "plt.ylim([-1,len(np.array(features)[order])])\n",
    "plt.xlim(0, max(model.feature_importances_)+0.001)\n",
    "\n",
    "plt.savefig(\"feature_importance_finalmodel_all.png\", bbox_inches=\"tight\")"
   ]
  },
  {
   "cell_type": "markdown",
   "id": "ee29e253-5782-4d45-8194-4ff4b3d1d7f4",
   "metadata": {
    "tags": []
   },
   "source": [
    "## Create the query for running the predictions\n",
    "This uses the existing query from the training data collection notebook, and adds `dask_chunks` as an additional parameter."
   ]
  },
  {
   "cell_type": "code",
   "execution_count": null,
   "id": "f88f146f-5192-4cd9-b6bc-9031422297d4",
   "metadata": {},
   "outputs": [],
   "source": [
    "# Load the query used for fitting\n",
    "query_file = \"results/query.pickle\"\n",
    "\n",
    "with open(query_file, \"rb\") as f:\n",
    "    query = pickle.load(f)\n",
    "    \n",
    "# Specify any specific additions to the data query -- e.g. dask_chunks for enabling parallel computation\n",
    "dask_chunks = {\"x\": 1000, \"y\": 1000}\n",
    "query.update({\"dask_chunks\": dask_chunks})\n",
    "\n",
    "query"
   ]
  },
  {
   "cell_type": "markdown",
   "id": "098b23a6-d24d-4b34-89ad-065688811012",
   "metadata": {},
   "source": [
    "## Run model over test areas"
   ]
  },
  {
   "cell_type": "code",
   "execution_count": null,
   "id": "12ff2523-e5b3-45c9-956e-040374803a59",
   "metadata": {},
   "outputs": [],
   "source": [
    "dc = datacube.Datacube()\n",
    "\n",
    "predictions = []\n",
    "area_of_interest_gdf = test_areas_gdf\n",
    "\n",
    "for index, district in area_of_interest_gdf.iterrows():\n",
    "\n",
    "    print(\"working on test region \" + str(index))\n",
    "    \n",
    "    # set up query based on district polygon\n",
    "    geom = geometry.Geometry(geom=district.geometry, crs=area_of_interest_gdf.crs)\n",
    "    query.update({\"geopolygon\": geom})\n",
    "\n",
    "    # calculate features\n",
    "    data = feature_layers(query)\n",
    "    print(len(data.data_vars))\n",
    "\n",
    "    # Only keep features that are in the original list of columns\n",
    "    data = data[features]\n",
    "    print(len(data.data_vars))\n",
    "\n",
    "    # predict using the imported model\n",
    "    predicted = predict_xr(\n",
    "        model, data, proba=True, persist=True, clean=True, return_input=True\n",
    "    ).persist()\n",
    "    \n",
    "    # Load masks and clip\n",
    "    crop_mask_query = query.copy()\n",
    "    crop_mask_query.update({\"time\": \"2019\"})\n",
    "\n",
    "    # Load the crop mask\n",
    "    print(\"    Loading crop_mask\")\n",
    "    crop_mask = dc.load(product=\"crop_mask\", **crop_mask_query)\n",
    "    \n",
    "    # Create a mask for the district\n",
    "    print(\"    Getting district mask\")\n",
    "    district_mask = xr_rasterize(\n",
    "        gdf=gpd.GeoDataFrame({\"DISTRICT\": [index], \"geometry\": [district.geometry]}, crs=area_of_interest_gdf.crs),\n",
    "        da=predicted,\n",
    "        transform=predicted.geobox.transform,\n",
    "        crs=\"EPSG:6933\",\n",
    "    )\n",
    "\n",
    "    # set the no data value\n",
    "    NODATA = np.nan\n",
    "\n",
    "    # Mask the predictions to\n",
    "    print(\"    Preparing predictions\")\n",
    "    predicted_masked = (\n",
    "        predicted.where((crop_mask.filtered == 1), NODATA)\n",
    "    ).compute()\n",
    "    \n",
    "    predicted_masked.attrs[\"nodata\"] = NODATA\n",
    "\n",
    "    predictions.append(predicted_masked)"
   ]
  },
  {
   "cell_type": "markdown",
   "id": "071145d4-813a-4fd1-8fcb-f7596feb056f",
   "metadata": {},
   "source": [
    "## Visualise predictions over test areas\n",
    "\n",
    "Resulting figures are saved out to the \"results\" folder."
   ]
  },
  {
   "cell_type": "code",
   "execution_count": null,
   "id": "6132278e-037c-4155-b66a-7bcb5ee35453",
   "metadata": {},
   "outputs": [],
   "source": [
    "figures = [\n",
    "    plt.subplots(1, 3, figsize=(18, 5), gridspec_kw={\"width_ratios\": [1, 0.90, 1]})\n",
    "    for i in range(0, len(predictions))\n",
    "]\n",
    "\n",
    "for i, figure in enumerate(figures):\n",
    "    \n",
    "    fig, axes = figure\n",
    "\n",
    "    # get discrete colormap\n",
    "    cmap = plt.get_cmap(\"Set3\", len(labels_dict))\n",
    "    # set limits .5 outside true range\n",
    "    mat = (\n",
    "        predictions[i]\n",
    "        .Predictions.astype(int)\n",
    "        .plot(\n",
    "            ax=axes[0],\n",
    "            cmap=cmap,\n",
    "            vmin=-0.5,\n",
    "            vmax=9.5,\n",
    "            add_labels=False,\n",
    "            add_colorbar=False,\n",
    "        )\n",
    "    )\n",
    "\n",
    "    # tell the colorbar to tick at integers\n",
    "    cax = plt.colorbar(\n",
    "        mat,\n",
    "        ticks=np.arange(min(labels_dict.values()), max(labels_dict.values()) + 1),\n",
    "        ax=axes[0],\n",
    "        fraction=0.046,\n",
    "        pad=0.04,\n",
    "    )\n",
    "    cax.ax.set_yticklabels(list(labels_dict.keys()))\n",
    "\n",
    "    # Plot true colour image\n",
    "    predictions[i][\"NDVI_s2_Q1_2022\"].plot(ax=axes[1], add_colorbar=False)\n",
    "    axes[1].set_xlabel(\"\")\n",
    "    axes[1].set_ylabel(\"\")\n",
    "\n",
    "    predictions[i].Probabilities.plot(\n",
    "        ax=axes[2],\n",
    "        cmap=\"magma\",\n",
    "        vmin=0,\n",
    "        vmax=100,\n",
    "        add_labels=False,\n",
    "        add_colorbar=True,\n",
    "        cbar_kwargs={\"fraction\": 0.046, \"pad\": 0.04},\n",
    "    )\n",
    "\n",
    "    # Remove axes on all plots\n",
    "    for ax in axes:\n",
    "        ax.set_aspect(\"equal\")\n",
    "        ax.tick_params(\n",
    "            axis=\"both\",\n",
    "            which=\"both\",\n",
    "            top=False,\n",
    "            bottom=False,\n",
    "            left=False,\n",
    "            right=False,\n",
    "            labelleft=False,\n",
    "            labelbottom=False,\n",
    "        )\n",
    "\n",
    "    # Add plot titles\n",
    "    axes[0].set_title(\"Classified Image\")\n",
    "    axes[1].set_title(\"NDVI_s2_Q1_2022\")\n",
    "    axes[2].set_title(\"Probabilities\");\n",
    "    \n",
    "    \n",
    "# Save out all figures\n",
    "for i, figure in enumerate(figures):\n",
    "    fig, ax = figure\n",
    "    fig.savefig(f\"results/{experiment_name}_test_region_{i}.png\", dpi=300, bbox_inches=\"tight\", facecolor=\"white\")"
   ]
  },
  {
   "cell_type": "markdown",
   "id": "a10468a3-dca1-4985-85ae-9db57287e4ef",
   "metadata": {},
   "source": [
    "## Close the dask client"
   ]
  },
  {
   "cell_type": "code",
   "execution_count": null,
   "id": "36762b58-c9a1-46c0-aff8-b0b25dda11f2",
   "metadata": {},
   "outputs": [],
   "source": [
    "client.close()"
   ]
  }
 ],
 "metadata": {
  "kernelspec": {
   "display_name": "Python 3 (ipykernel)",
   "language": "python",
   "name": "python3"
  },
  "language_info": {
   "codemirror_mode": {
    "name": "ipython",
    "version": 3
   },
   "file_extension": ".py",
   "mimetype": "text/x-python",
   "name": "python",
   "nbconvert_exporter": "python",
   "pygments_lexer": "ipython3",
   "version": "3.8.10"
  },
  "widgets": {
   "application/vnd.jupyter.widget-state+json": {
    "state": {},
    "version_major": 2,
    "version_minor": 0
   }
  }
 },
 "nbformat": 4,
 "nbformat_minor": 5
}
