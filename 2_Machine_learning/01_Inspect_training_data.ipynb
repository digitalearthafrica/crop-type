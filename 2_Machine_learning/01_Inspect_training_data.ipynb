{
 "cells": [
  {
   "cell_type": "code",
   "execution_count": null,
   "id": "c848a0ab-35fe-4077-acb7-677ead12070f",
   "metadata": {},
   "outputs": [],
   "source": [
    "%matplotlib inline\n",
    "\n",
    "import random\n",
    "import matplotlib.pyplot as plt\n",
    "import numpy as np\n",
    "import pandas as pd\n",
    "import json\n",
    "\n",
    "from sklearn.ensemble import RandomForestClassifier"
   ]
  },
  {
   "cell_type": "markdown",
   "id": "09f0cc51-b517-444f-9704-af9fc31641c8",
   "metadata": {},
   "source": [
    "## Read in training data and label dictionary\n",
    "\n",
    "### Define the data and label paths"
   ]
  },
  {
   "cell_type": "code",
   "execution_count": null,
   "id": "22028448-121e-4116-bfd7-f7c6cf56d1a7",
   "metadata": {},
   "outputs": [],
   "source": [
    "# Training data file from previous step\n",
    "data_path = \"results/training_data_singlepoints.txt\"\n",
    "\n",
    "# Dictionary with class labels from previous step\n",
    "labels_path = \"results/class_labels.json\""
   ]
  },
  {
   "cell_type": "markdown",
   "id": "a6e7cf33-fb86-455e-a1ef-72bdf6bcb70e",
   "metadata": {},
   "source": [
    "### Load the data and identify the feature columns for the model"
   ]
  },
  {
   "cell_type": "code",
   "execution_count": null,
   "id": "f4ac1d13-6a2b-4fd4-abc7-67039db62ec0",
   "metadata": {},
   "outputs": [],
   "source": [
    "# load the data\n",
    "model_input = np.loadtxt(data_path)\n",
    "\n",
    "# load the column_names\n",
    "with open(data_path, \"r\") as file:\n",
    "    header = file.readline()\n",
    "\n",
    "# Remove comment symbol from header, then extract label and feature names\n",
    "column_names = header.split()[1:]\n",
    "\n",
    "label_col = column_names[0]\n",
    "feature_cols = column_names[1:]\n",
    "\n",
    "print(f\"Label column:\\n{label_col}\\n\")\n",
    "print(f\"Feature columns:\\n{feature_cols}\\n\")\n",
    "\n",
    "# Extract relevant indices from training data\n",
    "model_col_indices = [column_names.index(var_name) for var_name in column_names[1:]]"
   ]
  },
  {
   "cell_type": "markdown",
   "id": "96d94334-e881-4b28-ab32-fa84f3642f25",
   "metadata": {},
   "source": [
    "### Load the class labels dictionary"
   ]
  },
  {
   "cell_type": "code",
   "execution_count": null,
   "id": "9ac44b59-5c1c-4c1d-b600-5a58bff8e0e6",
   "metadata": {},
   "outputs": [],
   "source": [
    "# Read the class label dictionary\n",
    "with open(labels_path, \"r\") as json_file:\n",
    "    labels_dict = json.load(json_file)\n",
    "    \n",
    "print(labels_dict)"
   ]
  },
  {
   "cell_type": "markdown",
   "id": "afb648e5-2ceb-41dd-9ba9-cb4c54abade6",
   "metadata": {},
   "source": [
    "## Convert model input into sklearn format"
   ]
  },
  {
   "cell_type": "code",
   "execution_count": null,
   "id": "7adea9bd-13b2-4d7d-b98f-f2ecaac3f35f",
   "metadata": {},
   "outputs": [],
   "source": [
    "# Insert data into a Pandas DataFrame, then split into features and labels\n",
    "model_input_df = pd.DataFrame(model_input, columns=column_names)\n",
    "X = model_input_df.drop(label_col, axis=1)\n",
    "y = model_input_df[[label_col]]"
   ]
  },
  {
   "cell_type": "markdown",
   "id": "5b71de5d-75bc-473f-876d-7f23acbb9545",
   "metadata": {},
   "source": [
    "### Check data counts for each class"
   ]
  },
  {
   "cell_type": "code",
   "execution_count": null,
   "id": "b64c0036-74dd-4be3-9684-e9f0b90779d1",
   "metadata": {},
   "outputs": [],
   "source": [
    "# Investigate value counts for each class\n",
    "model_input_df[label_col].value_counts()"
   ]
  },
  {
   "cell_type": "markdown",
   "id": "47dc6198-ff31-49e9-8778-785e78317785",
   "metadata": {},
   "source": [
    "## Fit a Random Forest model for feature importance\n",
    "This step is purely to investigate the feature importance in a Random Forest model, without any model optimisation. This step can be used to understand which features are predictive of the class label. From this, the feature list can be refined or expanded."
   ]
  },
  {
   "cell_type": "code",
   "execution_count": null,
   "id": "4b7b66af-a235-4cbb-a1a5-2b4a9e773a25",
   "metadata": {},
   "outputs": [],
   "source": [
    "# Construct the model\n",
    "model = RandomForestClassifier(random_state=42)\n",
    "\n",
    "# Fit the model\n",
    "model.fit(X, y.values.ravel());"
   ]
  },
  {
   "cell_type": "markdown",
   "id": "568e2864-4e77-4fdf-afbc-ecadadec0fd2",
   "metadata": {},
   "source": [
    "### Display the features in ascending order of importance"
   ]
  },
  {
   "cell_type": "code",
   "execution_count": null,
   "id": "a6d92051-836e-402c-9edb-ff8067d417d3",
   "metadata": {},
   "outputs": [],
   "source": [
    "order = np.argsort(model.feature_importances_)\n",
    "\n",
    "fig, ax = plt.subplots(figsize=(6, 12))\n",
    "ax.barh(range(len(np.array(feature_cols)[order])), model.feature_importances_[order])\n",
    "ax.set_xlabel(\"Importance\", fontsize=14)\n",
    "ax.set_ylabel(\"Feature\", fontsize=14)\n",
    "ax.set_yticks(np.arange(len(order)))\n",
    "ax.set_yticklabels(np.array(feature_cols)[order], rotation=0, fontsize=8)\n",
    "plt.ylim([-1,len(np.array(feature_cols)[order])])\n",
    "plt.xlim(0, max(model.feature_importances_)+0.001)\n",
    "\n",
    "plt.savefig(\"results/feature_importance.png\", dpi=300, bbox_inches=\"tight\", facecolor=\"white\")"
   ]
  },
  {
   "cell_type": "markdown",
   "id": "310ef868-0f58-4e7d-8232-2476534e9d8d",
   "metadata": {},
   "source": [
    "## Investigate correlation in features"
   ]
  },
  {
   "cell_type": "code",
   "execution_count": null,
   "id": "a7802586-a33c-43d7-9154-bf1d5c65a7b2",
   "metadata": {},
   "outputs": [],
   "source": [
    "correlation_matrix = X.corr().abs()"
   ]
  },
  {
   "cell_type": "code",
   "execution_count": null,
   "id": "ae3fbbce-cd43-4604-98ad-4a7aba1a87f5",
   "metadata": {},
   "outputs": [],
   "source": [
    "upper_tri = correlation_matrix.where(np.triu(np.ones(correlation_matrix.shape),k=1).astype(bool))"
   ]
  },
  {
   "cell_type": "code",
   "execution_count": null,
   "id": "91e5ee53-c7c5-44ce-b06a-e167aacbb657",
   "metadata": {},
   "outputs": [],
   "source": [
    "to_drop = [column for column in upper_tri.columns if any(upper_tri[column] > 0.9)]\n",
    "print(); print(to_drop)"
   ]
  },
  {
   "cell_type": "code",
   "execution_count": null,
   "id": "61c6a76b-4cc7-45cc-b711-6c6153429aa3",
   "metadata": {},
   "outputs": [],
   "source": [
    "df1 = X.drop(to_drop, axis=1)\n",
    "print(); print(df1.columns)"
   ]
  },
  {
   "cell_type": "code",
   "execution_count": null,
   "id": "b8df36e4-4605-4c22-b823-ee8ea81ca411",
   "metadata": {},
   "outputs": [],
   "source": [
    "# Construct the model\n",
    "model = RandomForestClassifier(random_state=42)\n",
    "\n",
    "# Fit the model\n",
    "model.fit(df1, y.values.ravel());"
   ]
  },
  {
   "cell_type": "code",
   "execution_count": null,
   "id": "90349788-720f-4ef1-b6c8-057dc60ce1f2",
   "metadata": {},
   "outputs": [],
   "source": [
    "order = np.argsort(model.feature_importances_)\n",
    "\n",
    "fig, ax = plt.subplots(figsize=(12, 8))\n",
    "ax.bar(x=np.array(df1.columns)[order], height=model.feature_importances_[order])\n",
    "ax.set_ylabel(\"Importance\", labelpad=10)\n",
    "ax.set_xlabel(\"Feature\", labelpad=10)\n",
    "ax.set_xticks(np.arange(len(df1.columns)))\n",
    "ax.set_xticklabels(np.array(df1.columns)[order], rotation=90)\n",
    "plt.tight_layout()\n",
    "\n",
    "fig.savefig(f\"results/feature_importance_afterremovecorrelation.png\", dpi=300, bbox_inches=\"tight\", facecolor=\"white\")"
   ]
  }
 ],
 "metadata": {
  "kernelspec": {
   "display_name": "Python 3 (ipykernel)",
   "language": "python",
   "name": "python3"
  },
  "language_info": {
   "codemirror_mode": {
    "name": "ipython",
    "version": 3
   },
   "file_extension": ".py",
   "mimetype": "text/x-python",
   "name": "python",
   "nbconvert_exporter": "python",
   "pygments_lexer": "ipython3",
   "version": "3.8.10"
  },
  "widgets": {
   "application/vnd.jupyter.widget-state+json": {
    "state": {},
    "version_major": 2,
    "version_minor": 0
   }
  }
 },
 "nbformat": 4,
 "nbformat_minor": 5
}
